{
 "cells": [
  {
   "cell_type": "markdown",
   "id": "58a43d2f",
   "metadata": {},
   "source": [
    "# 📰 Demo: Stock News Sentiment Analyzer\n",
    "\n",
    "### 🎯 Goal: Extract sentiment, key events, and price catalysts from financial news articles.\n",
    "\n",
    "### 💡 Demonstrates\n",
    "- Class-based **DSPy Signatures** with typed fields  \n",
    "- **LLM-as-a-judge** for evaluation  \n",
    "- **GEPA optimizer** improving prompt quality"
   ]
  },
  {
   "cell_type": "code",
   "execution_count": 1,
   "id": "6ef0068a",
   "metadata": {},
   "outputs": [
    {
     "name": "stdout",
     "output_type": "stream",
     "text": [
      "✓ Language models configured\n"
     ]
    }
   ],
   "source": [
    "import dspy\n",
    "from typing import Literal\n",
    "import os\n",
    "\n",
    "from dotenv import load_dotenv\n",
    "load_dotenv()\n",
    "\n",
    "# Configure LM\n",
    "api_key = os.getenv(\"OPENAI_API_KEY\")\n",
    "\n",
    "lm = dspy.LM(model=\"openai/gpt-5-nano\", api_key=api_key, temperature=1, max_tokens=16000)\n",
    "judge_lm = dspy.LM(model=\"openai/gpt-5\", api_key=api_key, temperature=1, max_tokens=16000)\n",
    "dspy.configure(lm=lm)\n",
    "\n",
    "print(\"✓ Language models configured\")"
   ]
  },
  {
   "cell_type": "markdown",
   "id": "97f58b3f",
   "metadata": {},
   "source": [
    "### 🧩 Train / Validation Sets"
   ]
  },
  {
   "cell_type": "code",
   "execution_count": 2,
   "id": "a8c7c7b7",
   "metadata": {},
   "outputs": [
    {
     "name": "stdout",
     "output_type": "stream",
     "text": [
      "✓ Dataset loaded: 5 training examples\n"
     ]
    }
   ],
   "source": [
    "trainset = [\n",
    "    dspy.Example(\n",
    "        news=\"Tesla announced Q3 earnings beat with $23.4B revenue, up 8% YoY. Cybertruck production ramping faster than expected. Musk warned of margin pressure from price cuts.\",\n",
    "        expected_sentiment=\"Mixed-Positive\",\n",
    "        expected_catalysts=\"earnings beat, Cybertruck production\",\n",
    "        expected_risks=\"margin pressure\"\n",
    "    ).with_inputs(\"news\"),\n",
    "\n",
    "    dspy.Example(\n",
    "        news=\"NVIDIA shares tumbled 7% after reports of delayed H100 chip shipments to China. Export restrictions cited as primary cause. Analysts downgraded price targets.\",\n",
    "        expected_sentiment=\"Negative\",\n",
    "        expected_catalysts=\"export restrictions, analyst downgrades\",\n",
    "        expected_risks=\"China revenue exposure\"\n",
    "    ).with_inputs(\"news\"),\n",
    "\n",
    "    dspy.Example(\n",
    "        news=\"Apple unveiled new M3 MacBook Pro lineup with 30% performance gains. Pre-orders exceeded expectations. Services revenue hit record $22B.\",\n",
    "        expected_sentiment=\"Positive\",\n",
    "        expected_catalysts=\"M3 launch, strong pre-orders, services growth\",\n",
    "        expected_risks=\"none\"\n",
    "    ).with_inputs(\"news\"),\n",
    "\n",
    "    dspy.Example(\n",
    "        news=\"Amazon Web Services experienced 3-hour outage affecting major customers. Stock dropped 2% on reliability concerns. AWS remains market leader with 32% share.\",\n",
    "        expected_sentiment=\"Negative\",\n",
    "        expected_catalysts=\"AWS outage\",\n",
    "        expected_risks=\"reliability concerns, customer trust\"\n",
    "    ).with_inputs(\"news\"),\n",
    "\n",
    "    dspy.Example(\n",
    "        news=\"Meta's Reality Labs division posted $3.7B loss but Quest 3 pre-orders doubled Quest 2. Zuckerberg remains committed to metaverse investments despite investor pressure.\",\n",
    "        expected_sentiment=\"Mixed\",\n",
    "        expected_catalysts=\"Quest 3 demand\",\n",
    "        expected_risks=\"Reality Labs losses, investor pressure\"\n",
    "    ).with_inputs(\"news\"),\n",
    "]\n",
    "\n",
    "valset = trainset  # For demo purposes, using same set\n",
    "print(f\"✓ Dataset loaded: {len(trainset)} training examples\")"
   ]
  },
  {
   "cell_type": "markdown",
   "id": "a21d690e",
   "metadata": {},
   "source": [
    "### 🔍 Define Signature / Module"
   ]
  },
  {
   "cell_type": "code",
   "execution_count": 3,
   "id": "e3e8c710",
   "metadata": {},
   "outputs": [
    {
     "name": "stdout",
     "output_type": "stream",
     "text": [
      "✓ Signature and module defined\n"
     ]
    }
   ],
   "source": [
    "# Define Signature\n",
    "class StockNewsAnalysis(dspy.Signature):\n",
    "    \"\"\"Analyze financial news to extract trading signals and risk factors.\"\"\"\n",
    "\n",
    "    news: str = dspy.InputField(desc=\"Financial news article text\")\n",
    "    sentiment: Literal['Positive', 'Negative', 'Mixed', 'Mixed-Positive', 'Mixed-Negative'] = dspy.OutputField(desc=\"Overall market sentiment\")\n",
    "    key_events: str = dspy.OutputField(desc=\"Most important events mentioned (comma-separated)\")\n",
    "    price_catalysts: str = dspy.OutputField(desc=\"Factors that could move stock price\")\n",
    "    risk_factors: str = dspy.OutputField(desc=\"Potential risks or concerns\")\n",
    "\n",
    "# Create analyzer module\n",
    "class NewsAnalyzer(dspy.Module):\n",
    "    def __init__(self):\n",
    "        super().__init__()\n",
    "        self.analyze = dspy.ChainOfThought(StockNewsAnalysis)\n",
    "\n",
    "    def forward(self, news):\n",
    "        return self.analyze(news=news)\n",
    "\n",
    "print(\"✓ Signature and module defined\")"
   ]
  },
  {
   "cell_type": "markdown",
   "id": "dad55da5",
   "metadata": {},
   "source": [
    "### Test Before Optimization"
   ]
  },
  {
   "cell_type": "code",
   "execution_count": 4,
   "id": "347912d5",
   "metadata": {},
   "outputs": [
    {
     "name": "stdout",
     "output_type": "stream",
     "text": [
      "\n",
      "============================================================\n",
      "TESTING BEFORE OPTIMIZATION\n",
      "============================================================\n",
      "\n",
      "News: Tesla announced Q3 earnings beat with $23.4B revenue, up 8% YoY. Cybertruck production ramping faste...\n",
      "\n",
      "Sentiment: Mixed-Positive\n",
      "Key Events: Q3 earnings beat; Revenue $23.4B, up 8% YoY; Cybertruck production ramp faster than expected; Musk warning of margin pressure from price cuts\n",
      "Catalysts: Earnings beat and revenue growth could lift the stock; Faster Cybertruck ramp supporting future deliveries; Potential margin stabilization if price cuts do not erode profitability; Any positive guidance or demand signals in upcoming updates\n",
      "Risks: Margin pressure from price cuts; Execution risk around Cybertruck ramp and production scale; Demand sustainability for EVs amid competition and macro headwinds; Potential further margin erosion if price adjustments persist\n"
     ]
    }
   ],
   "source": [
    "# Test Before Optimization\n",
    "print(\"\\n\" + \"=\"*60)\n",
    "print(\"TESTING BEFORE OPTIMIZATION\")\n",
    "print(\"=\"*60)\n",
    "\n",
    "analyzer = NewsAnalyzer()\n",
    "test_news = trainset[0].news\n",
    "result = analyzer(news=test_news)\n",
    "\n",
    "print(f\"\\nNews: {test_news[:100]}...\")\n",
    "print(f\"\\nSentiment: {result.sentiment}\")\n",
    "print(f\"Key Events: {result.key_events}\")\n",
    "print(f\"Catalysts: {result.price_catalysts}\")\n",
    "print(f\"Risks: {result.risk_factors}\")"
   ]
  },
  {
   "cell_type": "markdown",
   "id": "029d902c",
   "metadata": {},
   "source": [
    "### Define Judge Metric"
   ]
  },
  {
   "cell_type": "code",
   "execution_count": 5,
   "id": "002633dd",
   "metadata": {},
   "outputs": [
    {
     "name": "stdout",
     "output_type": "stream",
     "text": [
      "\n",
      "✓ Judge model configured\n"
     ]
    }
   ],
   "source": [
    "# LLM-as-a-Judge Metric\n",
    "class JudgeAnalysisQuality(dspy.Signature):\n",
    "    \"\"\"Evaluate the quality of stock news analysis.\"\"\"\n",
    "\n",
    "    news: str = dspy.InputField()\n",
    "    predicted_sentiment: str = dspy.InputField()\n",
    "    predicted_catalysts: str = dspy.InputField()\n",
    "    predicted_risks: str = dspy.InputField()\n",
    "    expected_sentiment: str = dspy.InputField()\n",
    "    expected_catalysts: str = dspy.InputField()\n",
    "    expected_risks: str = dspy.InputField()\n",
    "    score: float = dspy.OutputField(desc=\"Quality score 0-100\")\n",
    "    feedback: str = dspy.OutputField(desc=\"Detailed feedback on what's right and wrong\")\n",
    "\n",
    "class AnalysisJudge(dspy.Module):\n",
    "    def __init__(self):\n",
    "        super().__init__()\n",
    "        self.judge = dspy.ChainOfThought(JudgeAnalysisQuality)\n",
    "\n",
    "    def forward(self, news, predicted_sentiment, predicted_catalysts, predicted_risks,\n",
    "                expected_sentiment, expected_catalysts, expected_risks):\n",
    "        return self.judge(\n",
    "            news=news,\n",
    "            predicted_sentiment=predicted_sentiment,\n",
    "            predicted_catalysts=predicted_catalysts,\n",
    "            predicted_risks=predicted_risks,\n",
    "            expected_sentiment=expected_sentiment,\n",
    "            expected_catalysts=expected_catalysts,\n",
    "            expected_risks=expected_risks\n",
    "        )\n",
    "\n",
    "# Create judge instance\n",
    "judge = AnalysisJudge()\n",
    "judge.set_lm(judge_lm)\n",
    "\n",
    "print(\"\\n✓ Judge model configured\")"
   ]
  },
  {
   "cell_type": "markdown",
   "id": "a4fc12e4",
   "metadata": {},
   "source": [
    "### Define GEPA Metric"
   ]
  },
  {
   "cell_type": "code",
   "execution_count": 6,
   "id": "6bea6f95",
   "metadata": {},
   "outputs": [
    {
     "name": "stdout",
     "output_type": "stream",
     "text": [
      "Metric defined\n"
     ]
    }
   ],
   "source": [
    "def analysis_metric(gold, pred, trace=None, pred_name=None, pred_trace=None):\n",
    "    \"\"\"GEPA-compatible metric with textual feedback.\"\"\"\n",
    "\n",
    "    result = judge(\n",
    "        news=gold.news,\n",
    "        predicted_sentiment=pred.sentiment,\n",
    "        predicted_catalysts=pred.price_catalysts,\n",
    "        predicted_risks=pred.risk_factors,\n",
    "        expected_sentiment=gold.expected_sentiment,\n",
    "        expected_catalysts=gold.expected_catalysts,\n",
    "        expected_risks=gold.expected_risks\n",
    "    )\n",
    "\n",
    "    score = float(result.score) / 100.0  # Normalize to 0-1\n",
    "\n",
    "    return dspy.Prediction(score=score, feedback=result.feedback)\n",
    "\n",
    "print(\"Metric defined\")"
   ]
  },
  {
   "cell_type": "markdown",
   "id": "f95f4320",
   "metadata": {},
   "source": [
    "### Optimize with GEPA"
   ]
  },
  {
   "cell_type": "code",
   "execution_count": null,
   "id": "8dfd0ee7",
   "metadata": {},
   "outputs": [
    {
     "name": "stdout",
     "output_type": "stream",
     "text": [
      "\n",
      "============================================================\n",
      "OPTIMIZING WITH GEPA\n",
      "============================================================\n",
      "\n",
      "Running GEPA optimization...\n"
     ]
    },
    {
     "name": "stderr",
     "output_type": "stream",
     "text": [
      "GEPA Optimization:   1%|▏         | 5/400 [00:00<01:03,  6.18rollouts/s]"
     ]
    },
    {
     "name": "stdout",
     "output_type": "stream",
     "text": [
      "Average Metric: 2.72 / 3 (90.7%): 100%|██████████| 3/3 [00:00<00:00, 10.18it/s]\n"
     ]
    },
    {
     "name": "stderr",
     "output_type": "stream",
     "text": [
      "GEPA Optimization:   4%|▍         | 16/400 [00:02<00:59,  6.45rollouts/s]"
     ]
    },
    {
     "name": "stdout",
     "output_type": "stream",
     "text": [
      "Average Metric: 2.75 / 3 (91.7%): 100%|██████████| 3/3 [00:00<00:00,  9.23it/s]\n"
     ]
    },
    {
     "name": "stderr",
     "output_type": "stream",
     "text": [
      "GEPA Optimization:   6%|▌         | 22/400 [00:03<01:03,  5.95rollouts/s]"
     ]
    },
    {
     "name": "stdout",
     "output_type": "stream",
     "text": [
      "Average Metric: 2.74 / 3 (91.3%): 100%|██████████| 3/3 [00:00<00:00,  5.32it/s]\n"
     ]
    },
    {
     "name": "stderr",
     "output_type": "stream",
     "text": [
      "GEPA Optimization:   8%|▊         | 33/400 [00:05<01:08,  5.34rollouts/s]"
     ]
    },
    {
     "name": "stdout",
     "output_type": "stream",
     "text": [
      "Average Metric: 2.60 / 3 (86.7%): 100%|██████████| 3/3 [00:00<00:00,  9.32it/s]\n"
     ]
    },
    {
     "name": "stderr",
     "output_type": "stream",
     "text": [
      "GEPA Optimization:  10%|▉         | 39/400 [00:07<01:14,  4.82rollouts/s]"
     ]
    },
    {
     "name": "stdout",
     "output_type": "stream",
     "text": [
      "Average Metric: 2.61 / 3 (87.0%): 100%|██████████| 3/3 [00:00<00:00,  4.50it/s] \n"
     ]
    },
    {
     "name": "stderr",
     "output_type": "stream",
     "text": [
      "GEPA Optimization:  11%|█▏        | 45/400 [00:09<01:30,  3.94rollouts/s]"
     ]
    },
    {
     "name": "stdout",
     "output_type": "stream",
     "text": [
      "Average Metric: 2.74 / 3 (91.3%): 100%|██████████| 3/3 [00:00<00:00,  4.49it/s]\n"
     ]
    },
    {
     "name": "stderr",
     "output_type": "stream",
     "text": [
      "GEPA Optimization:  14%|█▍        | 56/400 [00:12<01:32,  3.74rollouts/s]"
     ]
    },
    {
     "name": "stdout",
     "output_type": "stream",
     "text": [
      "Average Metric: 2.78 / 3 (92.7%): 100%|██████████| 3/3 [00:00<00:00,  4.14it/s]\n"
     ]
    },
    {
     "name": "stderr",
     "output_type": "stream",
     "text": [
      "GEPA Optimization:  17%|█▋        | 67/400 [00:15<01:27,  3.79rollouts/s]"
     ]
    },
    {
     "name": "stdout",
     "output_type": "stream",
     "text": [
      "Average Metric: 2.87 / 3 (95.7%): 100%|██████████| 3/3 [00:00<00:00,  6.03it/s]\n"
     ]
    },
    {
     "name": "stderr",
     "output_type": "stream",
     "text": [
      "GEPA Optimization:  20%|█▉        | 78/400 [00:17<01:18,  4.11rollouts/s]"
     ]
    },
    {
     "name": "stdout",
     "output_type": "stream",
     "text": [
      "Average Metric: 2.52 / 3 (84.0%): 100%|██████████| 3/3 [00:00<00:00,  8.95it/s]\n"
     ]
    },
    {
     "name": "stderr",
     "output_type": "stream",
     "text": [
      "GEPA Optimization:  22%|██▏       | 89/400 [00:20<01:12,  4.27rollouts/s]"
     ]
    },
    {
     "name": "stdout",
     "output_type": "stream",
     "text": [
      "Average Metric: 2.75 / 3 (91.7%): 100%|██████████| 3/3 [00:00<00:00,  6.28it/s]\n"
     ]
    },
    {
     "name": "stderr",
     "output_type": "stream",
     "text": [
      "GEPA Optimization:  25%|██▌       | 100/400 [00:22<01:05,  4.56rollouts/s]"
     ]
    },
    {
     "name": "stdout",
     "output_type": "stream",
     "text": [
      "Average Metric: 2.80 / 3 (93.3%): 100%|██████████| 3/3 [00:00<00:00,  7.74it/s]\n"
     ]
    },
    {
     "name": "stderr",
     "output_type": "stream",
     "text": [
      "GEPA Optimization:  28%|██▊       | 111/400 [00:24<00:59,  4.86rollouts/s]"
     ]
    },
    {
     "name": "stdout",
     "output_type": "stream",
     "text": [
      "Average Metric: 2.27 / 3 (75.7%): 100%|██████████| 3/3 [00:00<00:00,  7.59it/s]\n"
     ]
    },
    {
     "name": "stderr",
     "output_type": "stream",
     "text": [
      "GEPA Optimization:  30%|███       | 122/400 [00:26<00:55,  5.02rollouts/s]"
     ]
    },
    {
     "name": "stdout",
     "output_type": "stream",
     "text": [
      "Average Metric: 2.75 / 3 (91.7%): 100%|██████████| 3/3 [00:00<00:00,  7.37it/s]\n"
     ]
    },
    {
     "name": "stderr",
     "output_type": "stream",
     "text": [
      "GEPA Optimization:  32%|███▏      | 128/400 [00:27<00:52,  5.15rollouts/s]"
     ]
    },
    {
     "name": "stdout",
     "output_type": "stream",
     "text": [
      "Average Metric: 2.74 / 3 (91.3%): 100%|██████████| 3/3 [00:00<00:00,  6.81it/s]\n"
     ]
    },
    {
     "name": "stderr",
     "output_type": "stream",
     "text": [
      "GEPA Optimization:  34%|███▎      | 134/400 [00:28<00:53,  4.98rollouts/s]"
     ]
    },
    {
     "name": "stdout",
     "output_type": "stream",
     "text": [
      "Average Metric: 2.75 / 3 (91.7%): 100%|██████████| 3/3 [00:00<00:00,  7.41it/s]\n"
     ]
    },
    {
     "name": "stderr",
     "output_type": "stream",
     "text": [
      "GEPA Optimization:  35%|███▌      | 140/400 [00:29<00:51,  5.01rollouts/s]"
     ]
    },
    {
     "name": "stdout",
     "output_type": "stream",
     "text": [
      "Average Metric: 2.81 / 3 (93.7%): 100%|██████████| 3/3 [00:00<00:00,  5.98it/s]\n"
     ]
    },
    {
     "name": "stderr",
     "output_type": "stream",
     "text": [
      "GEPA Optimization:  38%|███▊      | 151/400 [00:31<00:48,  5.17rollouts/s]"
     ]
    },
    {
     "name": "stdout",
     "output_type": "stream",
     "text": [
      "Average Metric: 2.65 / 3 (88.3%): 100%|██████████| 3/3 [00:00<00:00,  9.35it/s]\n"
     ]
    },
    {
     "name": "stderr",
     "output_type": "stream",
     "text": [
      "GEPA Optimization:  39%|███▉      | 157/400 [01:55<13:33,  3.35s/rollouts]"
     ]
    },
    {
     "name": "stdout",
     "output_type": "stream",
     "text": [
      "Average Metric: 2.87 / 3 (95.7%): 100%|██████████| 3/3 [00:01<00:00,  1.74it/s]\n"
     ]
    },
    {
     "name": "stderr",
     "output_type": "stream",
     "text": [
      "GEPA Optimization:  41%|████      | 163/400 [03:40<27:00,  6.84s/rollouts]"
     ]
    },
    {
     "name": "stdout",
     "output_type": "stream",
     "text": [
      "Average Metric: 2.87 / 3 (95.7%): 100%|██████████| 3/3 [00:01<00:00,  2.19it/s]\n"
     ]
    },
    {
     "name": "stderr",
     "output_type": "stream",
     "text": [
      "GEPA Optimization:  42%|████▏     | 169/400 [05:13<35:09,  9.13s/rollouts]"
     ]
    },
    {
     "name": "stdout",
     "output_type": "stream",
     "text": [
      "Average Metric: 2.75 / 3 (91.7%): 100%|██████████| 3/3 [00:00<00:00,  8.37it/s]\n"
     ]
    }
   ],
   "source": [
    "# Optimize with GEPA\n",
    "print(\"\\n\" + \"=\"*60)\n",
    "print(\"OPTIMIZING WITH GEPA\")\n",
    "print(\"=\"*60)\n",
    "\n",
    "gepa = dspy.GEPA(\n",
    "    metric=analysis_metric,\n",
    "    track_stats=True,\n",
    "    auto=\"light\",\n",
    "    reflection_lm=judge_lm\n",
    ")\n",
    "\n",
    "print(\"\\nRunning GEPA optimization...\")\n",
    "\n",
    "import logging\n",
    "logging.getLogger(\"dspy\").setLevel(logging.WARNING)  # or ERROR\n",
    "\n",
    "optimized_analyzer = gepa.compile(\n",
    "    NewsAnalyzer(),\n",
    "    trainset=trainset,\n",
    "    valset=valset,\n",
    ")\n",
    "\n",
    "\n",
    "print(\"\\n✓ Optimization complete!\")"
   ]
  },
  {
   "cell_type": "markdown",
   "id": "647a5c96",
   "metadata": {},
   "source": [
    "### 🔍 Test After Optimization"
   ]
  },
  {
   "cell_type": "code",
   "execution_count": null,
   "id": "01708b08",
   "metadata": {},
   "outputs": [],
   "source": [
    "# Test After Optimization\n",
    "print(\"\\n\" + \"=\"*60)\n",
    "print(\"TESTING AFTER OPTIMIZATION\")\n",
    "print(\"=\"*60)\n",
    "\n",
    "result_optimized = optimized_analyzer(news=test_news)\n",
    "\n",
    "print(f\"\\nNews: {test_news[:100]}...\")\n",
    "print(f\"\\nSentiment: {result_optimized.sentiment}\")\n",
    "print(f\"Key Events: {result_optimized.key_events}\")\n",
    "print(f\"Catalysts: {result_optimized.price_catalysts}\")\n",
    "print(f\"Risks: {result_optimized.risk_factors}\")"
   ]
  },
  {
   "cell_type": "markdown",
   "id": "610cd1cd",
   "metadata": {},
   "source": [
    "### Compare Performance"
   ]
  },
  {
   "cell_type": "code",
   "execution_count": null,
   "id": "4eec6590",
   "metadata": {},
   "outputs": [],
   "source": [
    "# Compare Performance\n",
    "print(\"\\n\" + \"=\"*60)\n",
    "print(\"PERFORMANCE COMPARISON\")\n",
    "print(\"=\"*60)\n",
    "\n",
    "\n",
    "def evaluate(analyzer, dataset):\n",
    "    scores = []\n",
    "    for example in dataset:\n",
    "        pred = analyzer(news=example.news)\n",
    "        result = analysis_metric(gold=example, pred=pred)\n",
    "        scores.append(result.score)\n",
    "    return sum(scores) / len(scores)\n",
    "\n",
    "\n",
    "print(\"\\nEvaluating performance...\")\n",
    "before_score = evaluate(NewsAnalyzer(), valset)\n",
    "after_score = evaluate(optimized_analyzer, valset)\n",
    "\n",
    "print(f\"\\nAverage Score Before: {before_score:.2f}\")\n",
    "print(f\"Average Score After:  {after_score:.2f}\")\n",
    "print(f\"Improvement: {((after_score - before_score) / before_score * 100):.1f}%\")"
   ]
  }
 ],
 "metadata": {
  "kernelspec": {
   "display_name": "Python 3",
   "language": "python",
   "name": "python3"
  },
  "language_info": {
   "codemirror_mode": {
    "name": "ipython",
    "version": 3
   },
   "file_extension": ".py",
   "mimetype": "text/x-python",
   "name": "python",
   "nbconvert_exporter": "python",
   "pygments_lexer": "ipython3",
   "version": "3.10.12"
  }
 },
 "nbformat": 4,
 "nbformat_minor": 5
}
